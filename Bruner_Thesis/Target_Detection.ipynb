{
 "cells": [
  {
   "cell_type": "markdown",
   "metadata": {},
   "source": [
    "# Target Detection for FMCW Radar"
   ]
  },
  {
   "cell_type": "code",
   "execution_count": 1,
   "metadata": {},
   "outputs": [],
   "source": [
    "# Imports\n",
    "import numpy as np\n",
    "import matplotlib.pyplot as plt\n",
    "import netCDF4 as nc"
   ]
  },
  {
   "cell_type": "markdown",
   "metadata": {},
   "source": [
    "## Radar parameters, constants, filenames, etc."
   ]
  },
  {
   "cell_type": "code",
   "execution_count": 2,
   "metadata": {},
   "outputs": [],
   "source": [
    "sample_rate = 10e6\n",
    "buffer_size = 2**14\n",
    "rx_lo_freq = 2e9\n",
    "tx_lo_freq = 2e9\n",
    "adc_size = 2**12\n",
    "\n",
    "c = 3e8\n",
    "\n",
    "nc_file = ''"
   ]
  },
  {
   "cell_type": "markdown",
   "metadata": {},
   "source": [
    "## Noise calculation\n",
    "### For coherent detectors, noise power can be estimated from the variance, $\\sigma^2$,  (square of standard deviation)\n",
    "$ \\begin {align}\n",
    "P_n &= \\frac{\\sigma^2}{2}\n",
    "\\end {align} $"
   ]
  },
  {
   "cell_type": "markdown",
   "metadata": {},
   "source": [
    "## False alarm\n",
    "### A false alarm occurs when noise jumps beyond the noise floor to a level similar to that of targets. There exists a voltage threshold, $V_T$, between a target and noise that is determined using SNR and determines the probability of false alarms, $P_{fa}$. \n",
    "$ \\begin {align}\n",
    "V_T &= \\sqrt{-2\\sigma^2 ln(P_{fa})} \\\\\n",
    "P_d &= Q\\left[\\sqrt{2SNR}\\sqrt{-2ln(P_{fa})}\\right] \\\\\n",
    "Q &- \\text{Marcum's Q functions}\n",
    "\\end {align} $"
   ]
  }
 ],
 "metadata": {
  "interpreter": {
   "hash": "749340c037a8d874dd53a00a03ee9b562e4cdc88abf43a603993191e84e328c5"
  },
  "kernelspec": {
   "display_name": "Python 3.9.7 64-bit ('adi': conda)",
   "language": "python",
   "name": "python3"
  },
  "language_info": {
   "codemirror_mode": {
    "name": "ipython",
    "version": 3
   },
   "file_extension": ".py",
   "mimetype": "text/x-python",
   "name": "python",
   "nbconvert_exporter": "python",
   "pygments_lexer": "ipython3",
   "version": "3.9.7"
  },
  "orig_nbformat": 4
 },
 "nbformat": 4,
 "nbformat_minor": 2
}
